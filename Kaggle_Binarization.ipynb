{
  "cells": [
    {
      "cell_type": "code",
      "execution_count": null,
      "metadata": {
        "id": "W11u_AI7rm5R"
      },
      "outputs": [],
      "source": [
        "! pip install -q kaggle\n"
      ]
    },
    {
      "cell_type": "code",
      "execution_count": null,
      "metadata": {
        "colab": {
          "base_uri": "https://localhost:8080/"
        },
        "id": "-b6gyHnvs_E8",
        "outputId": "7c9493ba-a4f2-4252-eecf-b2f837204da8"
      },
      "outputs": [],
      "source": [
        "!pip install opencv-python-headless"
      ]
    },
    {
      "cell_type": "code",
      "execution_count": null,
      "metadata": {
        "id": "PA-X22-jtHdy"
      },
      "outputs": [],
      "source": [
        "import cv2\n",
        "import numpy as np\n",
        "from google.colab.patches import cv2_imshow\n",
        "\n",
        "# For a Single Image\n",
        "'''\n",
        "img = cv2.imread('/content/data/testing_data/0/28310.png', 0) # Read as grayscale\n",
        "\n",
        "# Applying thresholding\n",
        "ret, thresh = cv2.threshold(img, 127, 255, cv2.THRESH_BINARY)\n",
        "\n",
        "# Applying Adaptive thresholding (gives smoother transition)\n",
        "imgf = cv2.adaptiveThreshold(img,255,cv2.ADAPTIVE_THRESH_GAUSSIAN_C,cv2.THRESH_BINARY,11,2) #imgf contains Binary image\n",
        "\n",
        "# Display the image\n",
        "cv2_imshow(thresh)\n",
        "cv2_imshow(imgf)\n",
        "'''"
      ]
    },
    {
      "cell_type": "markdown",
      "metadata": {
        "id": "zWAJa8b3wVuo"
      },
      "source": []
    },
    {
      "cell_type": "code",
      "execution_count": null,
      "metadata": {
        "colab": {
          "base_uri": "https://localhost:8080/",
          "height": 1000
        },
        "id": "zOt7HvQYvAQL",
        "outputId": "309c718f-7fbe-43a2-dc61-1ee6a65985fc"
      },
      "outputs": [],
      "source": [
        "import cv2\n",
        "import numpy as np\n",
        "import os\n",
        "from google.colab.patches import cv2_imshow\n",
        "\n",
        "images_dir = '../assets/data/training_data/0/'\n",
        "\n",
        "binarized_images = []\n",
        "\n",
        "for filename in os.listdir(images_dir):\n",
        "\n",
        "    if filename.endswith(('.png', '.jpg', '.jpeg')):\n",
        "        img_path = os.path.join(images_dir, filename)\n",
        "        img = cv2.imread(img_path, 0)\n",
        "\n",
        "        if img is not None:\n",
        "            thresh = cv2.adaptiveThreshold(img,255,cv2.ADAPTIVE_THRESH_GAUSSIAN_C,cv2.THRESH_BINARY,11,2)\n",
        "            binarized_images.append(thresh)\n",
        "        else:\n",
        "            print(f\"Error: Could not load image from {img_path}\")\n",
        "\n",
        "# Printing\n",
        "for i in range(len(binarized_images)):\n",
        "  cv2_imshow(binarized_images[i])\n"
      ]
    }
  ],
  "metadata": {
    "colab": {
      "provenance": []
    },
    "kernelspec": {
      "display_name": "Python 3",
      "name": "python3"
    },
    "language_info": {
      "codemirror_mode": {
        "name": "ipython",
        "version": 3
      },
      "file_extension": ".py",
      "mimetype": "text/x-python",
      "name": "python",
      "nbconvert_exporter": "python",
      "pygments_lexer": "ipython3",
      "version": "3.9.6"
    }
  },
  "nbformat": 4,
  "nbformat_minor": 0
}
